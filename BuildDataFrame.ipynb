{
 "cells": [
  {
   "cell_type": "code",
   "execution_count": 14,
   "metadata": {},
   "outputs": [],
   "source": [
    "import json\n",
    "import numpy as np\n",
    "import pandas as pd\n",
    "from bs4 import BeautifulSoup\n",
    "from datetime import date, timedelta\n"
   ]
  },
  {
   "cell_type": "code",
   "execution_count": 22,
   "metadata": {},
   "outputs": [],
   "source": [
    "df = pd.DataFrame([], columns = ['PubDate', 'URL', 'byline', 'headline', 'standfirst', 'body'])\n"
   ]
  },
  {
   "cell_type": "code",
   "execution_count": 35,
   "metadata": {},
   "outputs": [],
   "source": [
    "\n",
    "start_date = date(2020, 4, 1)\n",
    "end_date = date(2020, 10, 31)\n",
    "dayrange = range((end_date - start_date).days + 1)\n",
    "for daycount in dayrange:\n",
    "    dt = start_date + timedelta(days=daycount)\n",
    "    datestr = dt.strftime('%Y-%m-%d')\n",
    "    fname = 'articles/' + datestr + '.json'\n",
    "#     print(fname)\n",
    "\n",
    "    with open(fname) as f:\n",
    "        data = json.load(f)\n",
    "\n",
    "    for article in data:\n",
    "\n",
    "        if 'webPublicationDate' in article: \n",
    "            pub_date = article['webPublicationDate']\n",
    "        else:\n",
    "            pub_date = \"\"\n",
    "\n",
    "        if 'webUrl' in article: \n",
    "            URL = article['webUrl']\n",
    "        else:\n",
    "            URL = \"\"\n",
    "        \n",
    "        if 'headline' in article['fields']: \n",
    "            headline = article['fields']['headline']\n",
    "        else:\n",
    "            headline = \"\"\n",
    "            \n",
    "        if 'standfirst' in article['fields']: \n",
    "            standfirst_soup = BeautifulSoup(article['fields']['standfirst'], features='html.parser')\n",
    "            standfirst = standfirst_soup.get_text()\n",
    "        else:\n",
    "            standfirst = \"\"\n",
    "                                         \n",
    "        if 'byline' in article['fields']: \n",
    "            byline = article['fields']['byline']\n",
    "        else:\n",
    "            byline = \"\"\n",
    "\n",
    "        if 'body' in article['fields']: \n",
    "            body_soup = BeautifulSoup(article['fields']['body'], features='html.parser')\n",
    "            body = body_soup.get_text()\n",
    "        else:\n",
    "            body = \"\"\n",
    "\n",
    "        new_record = {\n",
    "            'PubDate': pub_date,\n",
    "            'URL': URL,\n",
    "            'headline': headline,\n",
    "            'standfirst': standfirst,\n",
    "            'byline': byline,\n",
    "            'body': body,\n",
    "        }\n",
    "\n",
    "        df.loc[len(df.index)] = new_record\n"
   ]
  },
  {
   "cell_type": "code",
   "execution_count": 36,
   "metadata": {},
   "outputs": [
    {
     "data": {
      "text/plain": [
       "(3133, 6)"
      ]
     },
     "execution_count": 36,
     "metadata": {},
     "output_type": "execute_result"
    }
   ],
   "source": [
    "df.shape"
   ]
  },
  {
   "cell_type": "code",
   "execution_count": null,
   "metadata": {},
   "outputs": [],
   "source": []
  }
 ],
 "metadata": {
  "kernelspec": {
   "display_name": "Python 3",
   "language": "python",
   "name": "python3"
  },
  "language_info": {
   "codemirror_mode": {
    "name": "ipython",
    "version": 3
   },
   "file_extension": ".py",
   "mimetype": "text/x-python",
   "name": "python",
   "nbconvert_exporter": "python",
   "pygments_lexer": "ipython3",
   "version": "3.7.1"
  }
 },
 "nbformat": 4,
 "nbformat_minor": 2
}
