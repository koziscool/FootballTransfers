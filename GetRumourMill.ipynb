{
 "cells": [
  {
   "cell_type": "code",
   "execution_count": 1,
   "metadata": {},
   "outputs": [],
   "source": [
    "import json\n",
    "import re\n",
    "import numpy as np\n",
    "import pandas as pd\n",
    "from bs4 import BeautifulSoup\n",
    "from datetime import date, timedelta\n"
   ]
  },
  {
   "cell_type": "code",
   "execution_count": 2,
   "metadata": {},
   "outputs": [],
   "source": [
    "df = pd.DataFrame([], columns = ['PubDate', 'URL', 'byline', 'headline', 'standfirst', 'body'])\n"
   ]
  },
  {
   "cell_type": "code",
   "execution_count": 3,
   "metadata": {},
   "outputs": [],
   "source": [
    "\n",
    "start_date = date(2020, 4, 1)\n",
    "end_date = date(2020, 10, 31)\n",
    "dayrange = range((end_date - start_date).days + 1)\n",
    "for daycount in dayrange:\n",
    "    dt = start_date + timedelta(days=daycount)\n",
    "    datestr = dt.strftime('%Y-%m-%d')\n",
    "    fname = 'articles/' + datestr + '.json'\n",
    "#     print(fname)\n",
    "\n",
    "    with open(fname) as f:\n",
    "        data = json.load(f)\n",
    "\n",
    "    for article in data:\n",
    "\n",
    "        if 'webPublicationDate' in article: \n",
    "            pub_date = article['webPublicationDate']\n",
    "        else:\n",
    "            pub_date = \"\"\n",
    "\n",
    "        if 'webUrl' in article: \n",
    "            URL = article['webUrl']\n",
    "        else:\n",
    "            URL = \"\"\n",
    "        \n",
    "        if 'headline' in article['fields']: \n",
    "            headline = article['fields']['headline']\n",
    "        else:\n",
    "            headline = \"\"\n",
    "            \n",
    "        if 'standfirst' in article['fields']: \n",
    "            standfirst_soup = BeautifulSoup(article['fields']['standfirst'], features='html.parser')\n",
    "            standfirst = standfirst_soup.get_text()\n",
    "        else:\n",
    "            standfirst = \"\"\n",
    "                                         \n",
    "        if 'byline' in article['fields']: \n",
    "            byline = article['fields']['byline']\n",
    "        else:\n",
    "            byline = \"\"\n",
    "\n",
    "        if 'body' in article['fields']: \n",
    "            body_soup = BeautifulSoup(article['fields']['body'], features='html.parser')\n",
    "            body = body_soup.get_text()\n",
    "        else:\n",
    "            body = \"\"\n",
    "\n",
    "        new_record = {\n",
    "            'PubDate': pub_date,\n",
    "            'URL': URL,\n",
    "            'headline': headline,\n",
    "            'standfirst': standfirst,\n",
    "            'byline': byline,\n",
    "            'body': body,\n",
    "        }\n",
    "\n",
    "        df.loc[len(df.index)] = new_record\n"
   ]
  },
  {
   "cell_type": "code",
   "execution_count": 4,
   "metadata": {},
   "outputs": [
    {
     "data": {
      "text/plain": [
       "(3067, 6)"
      ]
     },
     "execution_count": 4,
     "metadata": {},
     "output_type": "execute_result"
    }
   ],
   "source": [
    "df.shape"
   ]
  },
  {
   "cell_type": "code",
   "execution_count": null,
   "metadata": {},
   "outputs": [],
   "source": []
  },
  {
   "cell_type": "code",
   "execution_count": null,
   "metadata": {},
   "outputs": [],
   "source": []
  },
  {
   "cell_type": "code",
   "execution_count": 6,
   "metadata": {},
   "outputs": [],
   "source": [
    "def is_rumour_mill(row):\n",
    "    return row['URL'].find('transfer-rumours') >= 0 "
   ]
  },
  {
   "cell_type": "code",
   "execution_count": null,
   "metadata": {},
   "outputs": [],
   "source": []
  },
  {
   "cell_type": "code",
   "execution_count": null,
   "metadata": {},
   "outputs": [],
   "source": []
  },
  {
   "cell_type": "code",
   "execution_count": null,
   "metadata": {},
   "outputs": [],
   "source": []
  },
  {
   "cell_type": "code",
   "execution_count": null,
   "metadata": {},
   "outputs": [],
   "source": []
  },
  {
   "cell_type": "code",
   "execution_count": 7,
   "metadata": {},
   "outputs": [],
   "source": [
    "df['is_rumour_mill'] = df.apply(is_rumour_mill, axis=1)"
   ]
  },
  {
   "cell_type": "code",
   "execution_count": 8,
   "metadata": {},
   "outputs": [
    {
     "data": {
      "text/plain": [
       "(3067, 7)"
      ]
     },
     "execution_count": 8,
     "metadata": {},
     "output_type": "execute_result"
    }
   ],
   "source": [
    "df.shape"
   ]
  },
  {
   "cell_type": "code",
   "execution_count": 9,
   "metadata": {},
   "outputs": [
    {
     "data": {
      "text/html": [
       "<div>\n",
       "<style scoped>\n",
       "    .dataframe tbody tr th:only-of-type {\n",
       "        vertical-align: middle;\n",
       "    }\n",
       "\n",
       "    .dataframe tbody tr th {\n",
       "        vertical-align: top;\n",
       "    }\n",
       "\n",
       "    .dataframe thead th {\n",
       "        text-align: right;\n",
       "    }\n",
       "</style>\n",
       "<table border=\"1\" class=\"dataframe\">\n",
       "  <thead>\n",
       "    <tr style=\"text-align: right;\">\n",
       "      <th></th>\n",
       "      <th>PubDate</th>\n",
       "      <th>URL</th>\n",
       "      <th>byline</th>\n",
       "      <th>headline</th>\n",
       "      <th>standfirst</th>\n",
       "      <th>body</th>\n",
       "      <th>is_rumour_mill</th>\n",
       "    </tr>\n",
       "  </thead>\n",
       "  <tbody>\n",
       "    <tr>\n",
       "      <th>0</th>\n",
       "      <td>2020-04-01T20:16:54Z</td>\n",
       "      <td>https://www.theguardian.com/football/2020/apr/...</td>\n",
       "      <td>David Conn</td>\n",
       "      <td>Premier League tells PFA players will have to ...</td>\n",
       "      <td>Deferrals of wages not cuts wanted by football...</td>\n",
       "      <td>The Premier League and EFL have urged the foot...</td>\n",
       "      <td>False</td>\n",
       "    </tr>\n",
       "    <tr>\n",
       "      <th>1</th>\n",
       "      <td>2020-04-01T18:44:06Z</td>\n",
       "      <td>https://www.theguardian.com/football/blog/2020...</td>\n",
       "      <td>Paul MacInnes</td>\n",
       "      <td>Premier League clubs fail the smell test by fu...</td>\n",
       "      <td>Belts are being tightened across the UK but it...</td>\n",
       "      <td>Under the shadow of coronavirus new rules are ...</td>\n",
       "      <td>False</td>\n",
       "    </tr>\n",
       "    <tr>\n",
       "      <th>2</th>\n",
       "      <td>2020-04-01T15:57:46Z</td>\n",
       "      <td>https://www.theguardian.com/football/2020/apr/...</td>\n",
       "      <td>Simon Burnton</td>\n",
       "      <td>The Premier League, pay cuts and the plight of...</td>\n",
       "      <td>Sign up now! Sign up now! Sign up now? Sign up...</td>\n",
       "      <td>HOT SHIITAKE There was consternation among Pre...</td>\n",
       "      <td>False</td>\n",
       "    </tr>\n",
       "    <tr>\n",
       "      <th>3</th>\n",
       "      <td>2020-04-01T15:13:23Z</td>\n",
       "      <td>https://www.theguardian.com/football/2020/apr/...</td>\n",
       "      <td>Suzanne Wrack</td>\n",
       "      <td>Women's Euro 2021 in England postponed by a ye...</td>\n",
       "      <td>Move widely anticipated amid coronavirus pande...</td>\n",
       "      <td>The women’s European Championship, which was d...</td>\n",
       "      <td>False</td>\n",
       "    </tr>\n",
       "    <tr>\n",
       "      <th>4</th>\n",
       "      <td>2020-04-01T14:48:34Z</td>\n",
       "      <td>https://www.theguardian.com/football/2020/apr/...</td>\n",
       "      <td>Ben Fisher</td>\n",
       "      <td>Bournemouth manager Eddie Howe takes 'signific...</td>\n",
       "      <td>Three other senior employees doing the sameBou...</td>\n",
       "      <td>Eddie Howe has become the first Premier League...</td>\n",
       "      <td>False</td>\n",
       "    </tr>\n",
       "  </tbody>\n",
       "</table>\n",
       "</div>"
      ],
      "text/plain": [
       "                PubDate                                                URL  \\\n",
       "0  2020-04-01T20:16:54Z  https://www.theguardian.com/football/2020/apr/...   \n",
       "1  2020-04-01T18:44:06Z  https://www.theguardian.com/football/blog/2020...   \n",
       "2  2020-04-01T15:57:46Z  https://www.theguardian.com/football/2020/apr/...   \n",
       "3  2020-04-01T15:13:23Z  https://www.theguardian.com/football/2020/apr/...   \n",
       "4  2020-04-01T14:48:34Z  https://www.theguardian.com/football/2020/apr/...   \n",
       "\n",
       "          byline                                           headline  \\\n",
       "0     David Conn  Premier League tells PFA players will have to ...   \n",
       "1  Paul MacInnes  Premier League clubs fail the smell test by fu...   \n",
       "2  Simon Burnton  The Premier League, pay cuts and the plight of...   \n",
       "3  Suzanne Wrack  Women's Euro 2021 in England postponed by a ye...   \n",
       "4     Ben Fisher  Bournemouth manager Eddie Howe takes 'signific...   \n",
       "\n",
       "                                          standfirst  \\\n",
       "0  Deferrals of wages not cuts wanted by football...   \n",
       "1  Belts are being tightened across the UK but it...   \n",
       "2  Sign up now! Sign up now! Sign up now? Sign up...   \n",
       "3  Move widely anticipated amid coronavirus pande...   \n",
       "4  Three other senior employees doing the sameBou...   \n",
       "\n",
       "                                                body  is_rumour_mill  \n",
       "0  The Premier League and EFL have urged the foot...           False  \n",
       "1  Under the shadow of coronavirus new rules are ...           False  \n",
       "2  HOT SHIITAKE There was consternation among Pre...           False  \n",
       "3  The women’s European Championship, which was d...           False  \n",
       "4  Eddie Howe has become the first Premier League...           False  "
      ]
     },
     "execution_count": 9,
     "metadata": {},
     "output_type": "execute_result"
    }
   ],
   "source": [
    "df.head()"
   ]
  },
  {
   "cell_type": "code",
   "execution_count": null,
   "metadata": {},
   "outputs": [],
   "source": []
  },
  {
   "cell_type": "code",
   "execution_count": null,
   "metadata": {},
   "outputs": [],
   "source": []
  }
 ],
 "metadata": {
  "kernelspec": {
   "display_name": "Python 3",
   "language": "python",
   "name": "python3"
  },
  "language_info": {
   "codemirror_mode": {
    "name": "ipython",
    "version": 3
   },
   "file_extension": ".py",
   "mimetype": "text/x-python",
   "name": "python",
   "nbconvert_exporter": "python",
   "pygments_lexer": "ipython3",
   "version": "3.7.1"
  }
 },
 "nbformat": 4,
 "nbformat_minor": 2
}
