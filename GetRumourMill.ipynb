{
 "cells": [
  {
   "cell_type": "code",
   "execution_count": 1,
   "metadata": {},
   "outputs": [],
   "source": [
    "import json\n",
    "import re\n",
    "import numpy as np\n",
    "import pandas as pd\n",
    "from bs4 import BeautifulSoup\n",
    "from datetime import date, timedelta\n"
   ]
  },
  {
   "cell_type": "code",
   "execution_count": 2,
   "metadata": {},
   "outputs": [],
   "source": [
    "df = pd.DataFrame([], columns = ['PubDate', 'URL', 'byline', 'headline', 'standfirst', 'body'])\n"
   ]
  },
  {
   "cell_type": "code",
   "execution_count": 3,
   "metadata": {},
   "outputs": [],
   "source": [
    "\n",
    "start_date = date(2020, 4, 1)\n",
    "end_date = date(2020, 10, 31)\n",
    "dayrange = range((end_date - start_date).days + 1)\n",
    "for daycount in dayrange:\n",
    "    dt = start_date + timedelta(days=daycount)\n",
    "    datestr = dt.strftime('%Y-%m-%d')\n",
    "    fname = 'articles/' + datestr + '.json'\n",
    "#     print(fname)\n",
    "\n",
    "    with open(fname) as f:\n",
    "        data = json.load(f)\n",
    "\n",
    "    for article in data:\n",
    "\n",
    "        if 'webPublicationDate' in article: \n",
    "            pub_date = article['webPublicationDate']\n",
    "        else:\n",
    "            pub_date = \"\"\n",
    "\n",
    "        if 'webUrl' in article: \n",
    "            URL = article['webUrl']\n",
    "        else:\n",
    "            URL = \"\"\n",
    "        \n",
    "        if 'headline' in article['fields']: \n",
    "            headline = article['fields']['headline']\n",
    "        else:\n",
    "            headline = \"\"\n",
    "            \n",
    "        if 'standfirst' in article['fields']: \n",
    "            standfirst_soup = BeautifulSoup(article['fields']['standfirst'], features='html.parser')\n",
    "            standfirst = standfirst_soup.get_text()\n",
    "        else:\n",
    "            standfirst = \"\"\n",
    "                                         \n",
    "        if 'byline' in article['fields']: \n",
    "            byline = article['fields']['byline']\n",
    "        else:\n",
    "            byline = \"\"\n",
    "\n",
    "        if 'body' in article['fields']: \n",
    "            body_soup = BeautifulSoup(article['fields']['body'], features='html.parser')\n",
    "            body = body_soup.get_text()\n",
    "        else:\n",
    "            body = \"\"\n",
    "\n",
    "        new_record = {\n",
    "            'PubDate': pub_date,\n",
    "            'URL': URL,\n",
    "            'headline': headline,\n",
    "            'standfirst': standfirst,\n",
    "            'byline': byline,\n",
    "            'body': body,\n",
    "        }\n",
    "\n",
    "        df.loc[len(df.index)] = new_record\n"
   ]
  },
  {
   "cell_type": "code",
   "execution_count": 4,
   "metadata": {},
   "outputs": [
    {
     "data": {
      "text/plain": [
       "(3067, 6)"
      ]
     },
     "execution_count": 4,
     "metadata": {},
     "output_type": "execute_result"
    }
   ],
   "source": [
    "df.shape"
   ]
  },
  {
   "cell_type": "code",
   "execution_count": null,
   "metadata": {},
   "outputs": [],
   "source": []
  },
  {
   "cell_type": "code",
   "execution_count": null,
   "metadata": {},
   "outputs": [],
   "source": []
  },
  {
   "cell_type": "code",
   "execution_count": 6,
   "metadata": {},
   "outputs": [],
   "source": [
    "def is_rumour_mill(row):\n",
    "    return row['URL'].find('transfer-rumours') >= 0 "
   ]
  },
  {
   "cell_type": "code",
   "execution_count": 12,
   "metadata": {},
   "outputs": [
    {
     "name": "stderr",
     "output_type": "stream",
     "text": [
      "/home/koz/anaconda3/lib/python3.7/site-packages/ipykernel_launcher.py:1: SettingWithCopyWarning: \n",
      "A value is trying to be set on a copy of a slice from a DataFrame.\n",
      "Try using .loc[row_indexer,col_indexer] = value instead\n",
      "\n",
      "See the caveats in the documentation: http://pandas.pydata.org/pandas-docs/stable/indexing.html#indexing-view-versus-copy\n",
      "  \"\"\"Entry point for launching an IPython kernel.\n"
     ]
    }
   ],
   "source": [
    "df_sample['is_rumour_mill'] = df_sample.apply(is_rumour_mill, axis=1)"
   ]
  },
  {
   "cell_type": "code",
   "execution_count": 13,
   "metadata": {},
   "outputs": [
    {
     "name": "stdout",
     "output_type": "stream",
     "text": [
      "                   PubDate                                                URL  \\\n",
      "2300  2020-09-15T08:15:38Z  https://www.theguardian.com/football/2020/sep/...   \n",
      "2301  2020-09-15T07:00:19Z  https://www.theguardian.com/football/blog/2020...   \n",
      "2302  2020-09-16T21:14:34Z  https://www.theguardian.com/football/live/2020...   \n",
      "2303  2020-09-16T21:12:19Z  https://www.theguardian.com/football/2020/sep/...   \n",
      "2304  2020-09-16T19:07:48Z  https://www.theguardian.com/football/2020/sep/...   \n",
      "2305  2020-09-16T18:26:22Z  https://www.theguardian.com/football/2020/sep/...   \n",
      "2306  2020-09-16T17:51:57Z  https://www.theguardian.com/football/2020/sep/...   \n",
      "2307  2020-09-16T15:02:17Z  https://www.theguardian.com/football/2020/sep/...   \n",
      "2308  2020-09-16T14:57:06Z  https://www.theguardian.com/football/2020/sep/...   \n",
      "2309  2020-09-16T14:18:17Z  https://www.theguardian.com/football/2020/sep/...   \n",
      "2310  2020-09-16T12:22:08Z  https://www.theguardian.com/football/2020/sep/...   \n",
      "2311  2020-09-16T11:48:11Z  https://www.theguardian.com/football/2020/sep/...   \n",
      "2312  2020-09-16T11:26:19Z  https://www.theguardian.com/football/2020/sep/...   \n",
      "2313  2020-09-16T09:25:50Z  https://www.theguardian.com/football/2020/sep/...   \n",
      "2314  2020-09-16T09:23:11Z  https://www.theguardian.com/football/2020/sep/...   \n",
      "2315  2020-09-16T08:30:17Z  https://www.theguardian.com/football/2020/sep/...   \n",
      "2316  2020-09-16T08:23:53Z  https://www.theguardian.com/football/2020/sep/...   \n",
      "2317  2020-09-16T07:03:15Z  https://www.theguardian.com/football/2020/sep/...   \n",
      "2318  2020-09-17T23:01:09Z  https://www.theguardian.com/football/blog/2020...   \n",
      "2319  2020-09-17T21:30:07Z  https://www.theguardian.com/football/2020/sep/...   \n",
      "2320  2020-09-17T20:51:04Z  https://www.theguardian.com/football/2020/sep/...   \n",
      "2321  2020-09-17T18:09:04Z  https://www.theguardian.com/football/2020/sep/...   \n",
      "2322  2020-09-17T18:00:03Z  https://www.theguardian.com/football/2020/sep/...   \n",
      "2323  2020-09-17T15:31:01Z  https://www.theguardian.com/football/blog/2020...   \n",
      "2324  2020-09-17T15:16:09Z  https://www.theguardian.com/football/2020/sep/...   \n",
      "2325  2020-09-17T15:14:43Z  https://www.theguardian.com/football/2020/sep/...   \n",
      "2326  2020-09-17T14:51:39Z  https://www.theguardian.com/football/2020/sep/...   \n",
      "2327  2020-09-17T14:05:12Z  https://www.theguardian.com/football/2020/sep/...   \n",
      "2328  2020-09-17T13:18:06Z  https://www.theguardian.com/football/2020/sep/...   \n",
      "2329  2020-09-17T11:59:40Z  https://www.theguardian.com/football/2020/sep/...   \n",
      "\n",
      "                                          byline  \\\n",
      "2300                                  Tom Davies   \n",
      "2301                             Jacob Steinberg   \n",
      "2302                               Daniel Harris   \n",
      "2303                Andy Hunter at Goodison Park   \n",
      "2304                                David Hytner   \n",
      "2305                    Exclusive by Paul Wilson   \n",
      "2306                               Paul MacInnes   \n",
      "2307                                  Paul Doyle   \n",
      "2308                             Fabrizio Romano   \n",
      "2309                                  Paul Doyle   \n",
      "2310                               Jamie Jackson   \n",
      "2311                                 John Brewin   \n",
      "2312                               Paul MacInnes   \n",
      "2313                               Andy Brassell   \n",
      "2314                                   Nick Ames   \n",
      "2315                              Guardian sport   \n",
      "2316                                   Nick Ames   \n",
      "2317                             Fabrizio Romano   \n",
      "2318  Nick Ames, Simon Burnton and Daniel Harris   \n",
      "2319                               Jamie Jackson   \n",
      "2320                    Ben Fisher and Nick Ames   \n",
      "2321                                   Nick Ames   \n",
      "2322                          Sid Lowe in Madrid   \n",
      "2323                                   Eni Aluko   \n",
      "2324                               Simon Burnton   \n",
      "2325                               Louise Taylor   \n",
      "2326                                  Ben Fisher   \n",
      "2327                                 John Brewin   \n",
      "2328                   David Hytner and Sid Lowe   \n",
      "2329                      Ed Aarons and PA Media   \n",
      "\n",
      "                                               headline  \\\n",
      "2300  Football transfer rumours: Wales, golf, Manche...   \n",
      "2301  Chelsea's swanky rebuild is in need of more so...   \n",
      "2302  Everton 3-0 Salford, Leeds 1-1 Hull (8-9 on pe...   \n",
      "2303  Everton gain a head start from Michael Keane a...   \n",
      "2304  Tottenham close to re-signing Gareth Bale on l...   \n",
      "2305  Wigan in danger of being wound up like Maccles...   \n",
      "2306  Football League rings alarm for Premier League...   \n",
      "2307  A passion that drives Gareth Bale like a sweet...   \n",
      "2308  Leicester closing in on signing Roma winger Ce...   \n",
      "2309  Dean Smith: ‘Villa have won the top trophy. Ch...   \n",
      "2310  Manchester City weigh up Carlos and Giménez as...   \n",
      "2311  Macclesfield face extinction after being wound...   \n",
      "2312  'It’s a huge number': Fifa believes football h...   \n",
      "2313  Englishmen, crowds and a 'greedy piranha': wel...   \n",
      "2314  Emiliano Martínez joins Aston Villa from Arsen...   \n",
      "2315  Which managers have had the longest breaks bet...   \n",
      "2316  Football transfer rumours: is Dele Alli set fo...   \n",
      "2317  Tottenham set to sign Real Madrid left-back Se...   \n",
      "2318  Premier League: 10 things to look out for this...   \n",
      "2319  Ferran Torres: 'David Silva has always been a ...   \n",
      "2320  Brentford reject multiple bids from Arsenal fo...   \n",
      "2321  Tanguy Ndombele scores Tottenham winner at nin...   \n",
      "2322  Gareth Bale's Madrid exit is marked by bittern...   \n",
      "2323  Big names are great, but the WSL must not beco...   \n",
      "2324  The calibre of player that will inspire wild j...   \n",
      "2325  Bielsa defends making Casilla Leeds captain de...   \n",
      "2326  Tottenham fail with approach to sign Danny Ing...   \n",
      "2327  Macclesfield Town's demise was signposted but ...   \n",
      "2328  Gareth Bale flying with Sergio Reguilón to sea...   \n",
      "2329  Crystal Palace selling Sørloth to Leipzig and ...   \n",
      "\n",
      "                                             standfirst  \\\n",
      "2300   Today’s tittle-tattle has seen this movie before   \n",
      "2301  Frank Lampard will be satisfied with his new-l...   \n",
      "2302  Everton beat Salford easily enough, Leeds equa...   \n",
      "2303                                                      \n",
      "2304  Madrid agree to pay part of Bale’s £600,000 a ...   \n",
      "2305  Administrators outline difficulty of finding b...   \n",
      "2306  EFL says time running out to prevent clubs goi...   \n",
      "2307  Sign up now! Sign up now! Sign up now? Sign up...   \n",
      "2308  23-year-old would join on loan with obligation...   \n",
      "2309  Aston Villa manager on his five-year plan, wha...   \n",
      "2310  City hope Napoli will reduce €80m price for Ka...   \n",
      "2311  Nearly £190,000 is owed to HMRC who brought th...   \n",
      "2312  Figure ‘covers the football economy in its ent...   \n",
      "2313  Bayern and Dortmund loom large over the rest a...   \n",
      "2314  ‘I suffered through my time at Arsenal,’ he sa...   \n",
      "2315  Plus: multiple same-name scoring teammates, re...   \n",
      "2316            Today’s talk is going its separate ways   \n",
      "2317  Spurs accept La Liga club having a buyback cla...   \n",
      "2318  Chelsea and Liverpool could both be vulnerable...   \n",
      "2319  The winger, who will inherit his idol’s No 21,...   \n",
      "2320  Gunners need to replace departed Emiliano Mart...   \n",
      "2321  Lokomotiv Plovdiv 1-2 Tottenham HotspurHarry K...   \n",
      "2322  The Welshman is set to join Tottenham on loan ...   \n",
      "2323  The arrival of a host of stars is great for wo...   \n",
      "2324  Sign up now! Sign up now! Sign up now? Sign up...   \n",
      "2325  ‘His teammates think he deserved to be the cap...   \n",
      "2326  Saints have no interest in selling talismanic ...   \n",
      "2327  After 146 years a winding-up order means obliv...   \n",
      "2328  Private jet taking Real Madrid forward and lef...   \n",
      "2329  Palace splitting £20m fee for Sørloth with Tra...   \n",
      "\n",
      "                                                   body  is_rumour_mill  \n",
      "2300  The Mill has often wondered whether “Gareth Ba...            True  \n",
      "2301  If title challenges are built on the ability t...           False  \n",
      "2302    10.14pm BST   And here’s our report from Goo...           False  \n",
      "2303  Salford have come a long way since the Class o...           False  \n",
      "2304  Tottenham are confident they will secure a dea...           False  \n",
      "2305  The administrators trying to find a buyer for ...           False  \n",
      "2306  The Football League believes it is running out...           False  \n",
      "2307  BALE OUT! If Gareth Bale had his way, he would...           False  \n",
      "2308  Leicester are hoping to conclude a deal to sig...           False  \n",
      "2309  Dean Smith did his job exceptionally well last...           False  \n",
      "2310  Manchester City are considering alternatives t...           False  \n",
      "2311  Macclesfield Town have been wound up after a j...           False  \n",
      "2312  Football across the world lost $14.4bn (£11.1b...           False  \n",
      "2313  There are many knock-on effects of such a shor...           False  \n",
      "2314  Aston Villa have completed the signing of the ...           False  \n",
      "2315  “Eddie Niedzwiecki took temporary charge of Re...           False  \n",
      "2316  This transfer window needed a good Gareth Bale...            True  \n",
      "2317  Tottenham are set to sign the Real Madrid left...           False  \n",
      "2318  1) The big Chelsea v Liverpool showdown\\nLast ...           False  \n",
      "2319  As a young Valencia fan Ferran Torres’s heroes...           False  \n",
      "2320  Brentford have rejected multiple bids of aroun...           False  \n",
      "2321  Tottenham might hope Gareth Bale had better th...           False  \n",
      "2322  The saddest thing about Gareth Bale’s departur...           False  \n",
      "2323  Two games into the Women’s Super League season...           False  \n",
      "2324  ANOTHER SWEET DEAL AT ANFIELD\\nA couple of yea...           False  \n",
      "2325  Marcelo Bielsa has defended his politically fr...           False  \n",
      "2326  Tottenham have had a formal approach for Danny...           False  \n",
      "2327  The announcement was shocking but registered a...           False  \n",
      "2328  Gareth Bale and Sergio Reguilón have been book...           False  \n",
      "2329  Crystal Palace have agreed to sell the striker...           False  \n"
     ]
    }
   ],
   "source": [
    "print(df_sample)"
   ]
  },
  {
   "cell_type": "code",
   "execution_count": 14,
   "metadata": {},
   "outputs": [
    {
     "data": {
      "text/plain": [
       "(30, 7)"
      ]
     },
     "execution_count": 14,
     "metadata": {},
     "output_type": "execute_result"
    }
   ],
   "source": [
    "df_sample.shape"
   ]
  },
  {
   "cell_type": "code",
   "execution_count": 15,
   "metadata": {},
   "outputs": [
    {
     "data": {
      "text/plain": [
       "dtype('bool')"
      ]
     },
     "execution_count": 15,
     "metadata": {},
     "output_type": "execute_result"
    }
   ],
   "source": [
    "df_sample['is_rumour_mill'].dtype"
   ]
  },
  {
   "cell_type": "code",
   "execution_count": 16,
   "metadata": {},
   "outputs": [],
   "source": [
    "df['is_rumour_mill'] = df.apply(is_rumour_mill, axis=1)"
   ]
  },
  {
   "cell_type": "code",
   "execution_count": 17,
   "metadata": {},
   "outputs": [
    {
     "data": {
      "text/plain": [
       "(3067, 7)"
      ]
     },
     "execution_count": 17,
     "metadata": {},
     "output_type": "execute_result"
    }
   ],
   "source": [
    "df.shape"
   ]
  },
  {
   "cell_type": "code",
   "execution_count": 18,
   "metadata": {},
   "outputs": [
    {
     "data": {
      "text/html": [
       "<div>\n",
       "<style scoped>\n",
       "    .dataframe tbody tr th:only-of-type {\n",
       "        vertical-align: middle;\n",
       "    }\n",
       "\n",
       "    .dataframe tbody tr th {\n",
       "        vertical-align: top;\n",
       "    }\n",
       "\n",
       "    .dataframe thead th {\n",
       "        text-align: right;\n",
       "    }\n",
       "</style>\n",
       "<table border=\"1\" class=\"dataframe\">\n",
       "  <thead>\n",
       "    <tr style=\"text-align: right;\">\n",
       "      <th></th>\n",
       "      <th>PubDate</th>\n",
       "      <th>URL</th>\n",
       "      <th>byline</th>\n",
       "      <th>headline</th>\n",
       "      <th>standfirst</th>\n",
       "      <th>body</th>\n",
       "      <th>is_rumour_mill</th>\n",
       "    </tr>\n",
       "  </thead>\n",
       "  <tbody>\n",
       "    <tr>\n",
       "      <th>0</th>\n",
       "      <td>2020-04-01T20:16:54Z</td>\n",
       "      <td>https://www.theguardian.com/football/2020/apr/...</td>\n",
       "      <td>David Conn</td>\n",
       "      <td>Premier League tells PFA players will have to ...</td>\n",
       "      <td>Deferrals of wages not cuts wanted by football...</td>\n",
       "      <td>The Premier League and EFL have urged the foot...</td>\n",
       "      <td>False</td>\n",
       "    </tr>\n",
       "    <tr>\n",
       "      <th>1</th>\n",
       "      <td>2020-04-01T18:44:06Z</td>\n",
       "      <td>https://www.theguardian.com/football/blog/2020...</td>\n",
       "      <td>Paul MacInnes</td>\n",
       "      <td>Premier League clubs fail the smell test by fu...</td>\n",
       "      <td>Belts are being tightened across the UK but it...</td>\n",
       "      <td>Under the shadow of coronavirus new rules are ...</td>\n",
       "      <td>False</td>\n",
       "    </tr>\n",
       "    <tr>\n",
       "      <th>2</th>\n",
       "      <td>2020-04-01T15:57:46Z</td>\n",
       "      <td>https://www.theguardian.com/football/2020/apr/...</td>\n",
       "      <td>Simon Burnton</td>\n",
       "      <td>The Premier League, pay cuts and the plight of...</td>\n",
       "      <td>Sign up now! Sign up now! Sign up now? Sign up...</td>\n",
       "      <td>HOT SHIITAKE There was consternation among Pre...</td>\n",
       "      <td>False</td>\n",
       "    </tr>\n",
       "    <tr>\n",
       "      <th>3</th>\n",
       "      <td>2020-04-01T15:13:23Z</td>\n",
       "      <td>https://www.theguardian.com/football/2020/apr/...</td>\n",
       "      <td>Suzanne Wrack</td>\n",
       "      <td>Women's Euro 2021 in England postponed by a ye...</td>\n",
       "      <td>Move widely anticipated amid coronavirus pande...</td>\n",
       "      <td>The women’s European Championship, which was d...</td>\n",
       "      <td>False</td>\n",
       "    </tr>\n",
       "    <tr>\n",
       "      <th>4</th>\n",
       "      <td>2020-04-01T14:48:34Z</td>\n",
       "      <td>https://www.theguardian.com/football/2020/apr/...</td>\n",
       "      <td>Ben Fisher</td>\n",
       "      <td>Bournemouth manager Eddie Howe takes 'signific...</td>\n",
       "      <td>Three other senior employees doing the sameBou...</td>\n",
       "      <td>Eddie Howe has become the first Premier League...</td>\n",
       "      <td>False</td>\n",
       "    </tr>\n",
       "  </tbody>\n",
       "</table>\n",
       "</div>"
      ],
      "text/plain": [
       "                PubDate                                                URL  \\\n",
       "0  2020-04-01T20:16:54Z  https://www.theguardian.com/football/2020/apr/...   \n",
       "1  2020-04-01T18:44:06Z  https://www.theguardian.com/football/blog/2020...   \n",
       "2  2020-04-01T15:57:46Z  https://www.theguardian.com/football/2020/apr/...   \n",
       "3  2020-04-01T15:13:23Z  https://www.theguardian.com/football/2020/apr/...   \n",
       "4  2020-04-01T14:48:34Z  https://www.theguardian.com/football/2020/apr/...   \n",
       "\n",
       "          byline                                           headline  \\\n",
       "0     David Conn  Premier League tells PFA players will have to ...   \n",
       "1  Paul MacInnes  Premier League clubs fail the smell test by fu...   \n",
       "2  Simon Burnton  The Premier League, pay cuts and the plight of...   \n",
       "3  Suzanne Wrack  Women's Euro 2021 in England postponed by a ye...   \n",
       "4     Ben Fisher  Bournemouth manager Eddie Howe takes 'signific...   \n",
       "\n",
       "                                          standfirst  \\\n",
       "0  Deferrals of wages not cuts wanted by football...   \n",
       "1  Belts are being tightened across the UK but it...   \n",
       "2  Sign up now! Sign up now! Sign up now? Sign up...   \n",
       "3  Move widely anticipated amid coronavirus pande...   \n",
       "4  Three other senior employees doing the sameBou...   \n",
       "\n",
       "                                                body  is_rumour_mill  \n",
       "0  The Premier League and EFL have urged the foot...           False  \n",
       "1  Under the shadow of coronavirus new rules are ...           False  \n",
       "2  HOT SHIITAKE There was consternation among Pre...           False  \n",
       "3  The women’s European Championship, which was d...           False  \n",
       "4  Eddie Howe has become the first Premier League...           False  "
      ]
     },
     "execution_count": 18,
     "metadata": {},
     "output_type": "execute_result"
    }
   ],
   "source": [
    "df.head()"
   ]
  },
  {
   "cell_type": "code",
   "execution_count": null,
   "metadata": {},
   "outputs": [],
   "source": []
  }
 ],
 "metadata": {
  "kernelspec": {
   "display_name": "Python 3",
   "language": "python",
   "name": "python3"
  },
  "language_info": {
   "codemirror_mode": {
    "name": "ipython",
    "version": 3
   },
   "file_extension": ".py",
   "mimetype": "text/x-python",
   "name": "python",
   "nbconvert_exporter": "python",
   "pygments_lexer": "ipython3",
   "version": "3.7.1"
  }
 },
 "nbformat": 4,
 "nbformat_minor": 2
}
